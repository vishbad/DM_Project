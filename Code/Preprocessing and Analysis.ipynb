{
 "cells": [
  {
   "cell_type": "markdown",
   "metadata": {},
   "source": [
    "# Libraries"
   ]
  },
  {
   "cell_type": "code",
   "execution_count": 1,
   "metadata": {},
   "outputs": [],
   "source": [
    "#importing libraries\n",
    "import pandas as pd\n",
    "import matplotlib.pyplot as plt\n",
    "import numpy as np\n",
    "import csv"
   ]
  },
  {
   "cell_type": "markdown",
   "metadata": {},
   "source": [
    "# CSV File"
   ]
  },
  {
   "cell_type": "code",
   "execution_count": 2,
   "metadata": {},
   "outputs": [
    {
     "name": "stdout",
     "output_type": "stream",
     "text": [
      "<_csv.reader object at 0x000001E6D4C22B38>\n"
     ]
    }
   ],
   "source": [
    "#reading csv file\n",
    "with open('../Data/BASIC_HABITATION_INFORMATION_AS_ON_1_APR_12.csv',\"r\") as f:\n",
    "    reader = csv.reader(f,delimiter = \",\")\n",
    "    print(reader)\n",
    "    data = list(reader)\n",
    "    row_count = len(data)\n",
    "\n",
    "column_name = data.pop(0)\n",
    "column_name.insert(17,\"temp\")\n",
    "df=pd.DataFrame(data,columns=column_name)\n",
    "df.drop(columns=['temp'], axis = 1, inplace = True)"
   ]
  },
  {
   "cell_type": "markdown",
   "metadata": {},
   "source": [
    "# Data Preprocessing"
   ]
  },
  {
   "cell_type": "code",
   "execution_count": 3,
   "metadata": {},
   "outputs": [],
   "source": [
    "#noise removal(removal of data objects with out of format values(time format) for village names)\n",
    "patterndel = \" AM$| PM$|^[0-9]$\"\n",
    "name_remove =' LADE\"$'\n",
    "filter1 = df['Village Name'].str.contains(patterndel)\n",
    "df = df[~filter1]\n",
    "filter2 = df['SC Current Population'].str.contains(name_remove)\n",
    "df = df[~filter2]"
   ]
  },
  {
   "cell_type": "code",
   "execution_count": 4,
   "metadata": {},
   "outputs": [],
   "source": [
    "#dimensionality reduction\n",
    "df.drop(['Year', 'Status', 'SC Concentrated', 'ST Concentrated'], axis = 1, inplace = True)"
   ]
  },
  {
   "cell_type": "code",
   "execution_count": 5,
   "metadata": {},
   "outputs": [],
   "source": [
    "#converting all attributes to float value\n",
    "df['SC Current Population']=df['SC Current Population'].astype(str).astype(float)\n",
    "df['ST Current Population']=df['ST Current Population'].astype(str).astype(float)\n",
    "df['GENERAL Current Population']=df['GENERAL Current Population'].astype(str).astype(float)\n",
    "df['SC Covered Population']=df['SC Covered Population'].astype(str).astype(float)\n",
    "df['ST Covered Population']=df['ST Covered Population'].astype(str).astype(float)\n",
    "df['GENERAL Covered Population']=df['GENERAL Covered Population'].astype(str).astype(float)"
   ]
  },
  {
   "cell_type": "code",
   "execution_count": 6,
   "metadata": {},
   "outputs": [],
   "source": [
    "#data cleaning\n",
    "df.loc[df['GENERAL Current Population'] < 0, 'GENERAL Current Population'] = 0\n",
    "df.loc[df['GENERAL Covered Population'] < 0, 'GENERAL Covered Population'] = 0\n",
    "df.loc[df['SC Current Population'] < 0, 'SC Current Population'] = 0\n",
    "df.loc[df['SC Covered Population'] < 0, 'SC Covered Population'] = 0\n",
    "df.loc[df['ST Current Population'] < 0, 'ST Current Population'] = 0\n",
    "df.loc[df['ST Covered Population'] < 0, 'ST Covered Population'] = 0\n",
    "df.loc[df['ST Current Population'] < df['ST Covered Population'], 'ST Current Population'] = df['ST Covered Population']\n",
    "df.loc[df['SC Current Population'] < df['SC Covered Population'], 'SC Current Population'] = df['SC Covered Population']\n",
    "df.loc[df['GENERAL Current Population'] < df['GENERAL Covered Population'], 'GENERAL Current Population'] = df['GENERAL Covered Population']"
   ]
  },
  {
   "cell_type": "code",
   "execution_count": 7,
   "metadata": {},
   "outputs": [],
   "source": [
    "#Feature Construction(Minority Covered Population, Minority Current Population, Total Current Population and Total Covered Population)\n",
    "df['Minority Covered Population'] = df['SC Covered Population'] + df['ST Covered Population']\n",
    "df['Minority Current Population'] = df['SC Current Population'] + df['ST Current Population']\n",
    "df.drop(['SC Covered Population', 'SC Current Population', 'ST Covered Population', 'ST Current Population'],axis = 1, inplace = True)\n",
    "\n",
    "add = pd.Series([df['GENERAL Current Population'], df['Minority Current Population']])\n",
    "df['Total Current Population'] = add.sum()\n",
    "\n",
    "add = pd.Series([df['GENERAL Covered Population'], df['Minority Covered Population']])\n",
    "df['Total Covered Population'] = add.sum()"
   ]
  },
  {
   "cell_type": "code",
   "execution_count": 8,
   "metadata": {},
   "outputs": [],
   "source": [
    "#clubbing values grouped by State Name and District Names\n",
    "df2 = df.groupby(['State Name'],as_index=False).agg({'GENERAL Current Population': 'sum', 'GENERAL Covered Population': 'sum', 'Minority Current Population': 'sum', 'Minority Covered Population': 'sum', 'Total Current Population': 'sum', 'Total Covered Population': 'sum'})\n",
    "df3 = df.groupby(['State Name', 'District Name'],as_index=False).agg({'GENERAL Current Population': 'sum', 'GENERAL Covered Population': 'sum', 'Minority Current Population': 'sum', 'Minority Covered Population': 'sum', 'Total Current Population': 'sum', 'Total Covered Population': 'sum'})"
   ]
  },
  {
   "cell_type": "code",
   "execution_count": 9,
   "metadata": {},
   "outputs": [],
   "source": [
    "#manually filling values for missing states and UTs\n",
    "telangana = pd.DataFrame(df2[df2['State Name'] == 'ANDHRA PRADESH'])\n",
    "telangana['State Name'] = 'telangana'\n",
    "delhi = pd.DataFrame(df2[df2['State Name'] == 'HARYANA'])\n",
    "delhi['State Name'] = 'delhi ncr'"
   ]
  },
  {
   "cell_type": "code",
   "execution_count": 10,
   "metadata": {},
   "outputs": [],
   "source": [
    "#concatenating missing values\n",
    "frames = [df2, telangana, delhi]\n",
    "df2 = pd.concat(frames)"
   ]
  },
  {
   "cell_type": "code",
   "execution_count": 11,
   "metadata": {},
   "outputs": [],
   "source": [
    "#calculating ratios of required values for statewise visualisations\n",
    "df2['gcg'] = df2['GENERAL Covered Population']/df2['GENERAL Current Population']\n",
    "df2['mcm'] = df2['Minority Covered Population']/df2['Minority Current Population']\n",
    "df2['tct'] = df2['Total Covered Population']/df2['Total Current Population']\n",
    "\n",
    "#calculating ratios of required values for districtwise visualisations\n",
    "df3['gcg'] = df3['GENERAL Covered Population']/df3['GENERAL Current Population']\n",
    "df3['mcm'] = df3['Minority Covered Population']/df3['Minority Current Population']\n",
    "df3['tct'] = df3['Total Covered Population']/df3['Total Current Population']"
   ]
  },
  {
   "cell_type": "markdown",
   "metadata": {},
   "source": [
    "# Exporting data for Visualisations"
   ]
  },
  {
   "cell_type": "code",
   "execution_count": 12,
   "metadata": {},
   "outputs": [],
   "source": [
    "#exporting dataframes for visualisations\n",
    "df2.to_csv(r'../Data/States.csv', index = False)\n",
    "df3.to_csv(r'../Data/Districts.csv', index = False)"
   ]
  },
  {
   "cell_type": "markdown",
   "metadata": {},
   "source": [
    "# Data Analysis "
   ]
  },
  {
   "cell_type": "markdown",
   "metadata": {},
   "source": [
    "# Clustering"
   ]
  },
  {
   "cell_type": "code",
   "execution_count": 13,
   "metadata": {},
   "outputs": [
    {
     "name": "stderr",
     "output_type": "stream",
     "text": [
      "C:\\Users\\SpideySheoran\\Anaconda3\\lib\\site-packages\\ipykernel_launcher.py:6: SettingWithCopyWarning: \n",
      "A value is trying to be set on a copy of a slice from a DataFrame.\n",
      "Try using .loc[row_indexer,col_indexer] = value instead\n",
      "\n",
      "See the caveats in the documentation: http://pandas.pydata.org/pandas-docs/stable/user_guide/indexing.html#returning-a-view-versus-a-copy\n",
      "  \n",
      "C:\\Users\\SpideySheoran\\Anaconda3\\lib\\site-packages\\ipykernel_launcher.py:7: SettingWithCopyWarning: \n",
      "A value is trying to be set on a copy of a slice from a DataFrame.\n",
      "Try using .loc[row_indexer,col_indexer] = value instead\n",
      "\n",
      "See the caveats in the documentation: http://pandas.pydata.org/pandas-docs/stable/user_guide/indexing.html#returning-a-view-versus-a-copy\n",
      "  import sys\n",
      "C:\\Users\\SpideySheoran\\Anaconda3\\lib\\site-packages\\ipykernel_launcher.py:8: SettingWithCopyWarning: \n",
      "A value is trying to be set on a copy of a slice from a DataFrame.\n",
      "Try using .loc[row_indexer,col_indexer] = value instead\n",
      "\n",
      "See the caveats in the documentation: http://pandas.pydata.org/pandas-docs/stable/user_guide/indexing.html#returning-a-view-versus-a-copy\n",
      "  \n",
      "C:\\Users\\SpideySheoran\\Anaconda3\\lib\\site-packages\\ipykernel_launcher.py:9: SettingWithCopyWarning: \n",
      "A value is trying to be set on a copy of a slice from a DataFrame.\n",
      "Try using .loc[row_indexer,col_indexer] = value instead\n",
      "\n",
      "See the caveats in the documentation: http://pandas.pydata.org/pandas-docs/stable/user_guide/indexing.html#returning-a-view-versus-a-copy\n",
      "  if __name__ == '__main__':\n",
      "C:\\Users\\SpideySheoran\\Anaconda3\\lib\\site-packages\\ipykernel_launcher.py:10: SettingWithCopyWarning: \n",
      "A value is trying to be set on a copy of a slice from a DataFrame.\n",
      "Try using .loc[row_indexer,col_indexer] = value instead\n",
      "\n",
      "See the caveats in the documentation: http://pandas.pydata.org/pandas-docs/stable/user_guide/indexing.html#returning-a-view-versus-a-copy\n",
      "  # Remove the CWD from sys.path while we load stuff.\n"
     ]
    }
   ],
   "source": [
    "#creating dataframes for analysis\n",
    "mi_df = df3[['State Name', 'District Name', 'Minority Covered Population', 'Minority Current Population', 'Total Covered Population', 'Total Current Population']]\n",
    "ge_df = df3[['State Name', 'District Name', 'GENERAL Covered Population', 'GENERAL Current Population', 'Total Covered Population', 'Total Current Population']]\n",
    "to_df = df3[['State Name', 'District Name','Total Covered Population', 'Total Current Population']]\n",
    "\n",
    "mi_df['mi_conc'] = mi_df['Minority Current Population']/mi_df['Total Current Population']\n",
    "mi_df['mi_cove'] = mi_df['Minority Covered Population']/mi_df['Minority Current Population']\n",
    "ge_df['ge_conc'] = 1 - mi_df['mi_conc']\n",
    "ge_df['ge_cove'] = ge_df['GENERAL Covered Population']/ge_df['GENERAL Current Population']\n",
    "to_df['to_cove'] = to_df['Total Covered Population']/to_df['Total Current Population']"
   ]
  },
  {
   "cell_type": "code",
   "execution_count": 14,
   "metadata": {},
   "outputs": [],
   "source": [
    "#Applying k-means for minority population\n",
    "points = mi_df[['mi_cove', 'State Name','District Name']]\n",
    "\n",
    "centroids = np.asarray([0, 0.4, 0.7])\n",
    "new_cen = np.asarray([0, 0, 0])\n",
    "\n",
    "col_names =  ['mi_cove', 'State Name', 'District Name']\n",
    "mi_c1 = pd.DataFrame(columns = col_names)\n",
    "mi_c2 = pd.DataFrame(columns = col_names)\n",
    "mi_c3 = pd.DataFrame(columns = col_names)\n",
    "for i in range(points['mi_cove'].count()):\n",
    "    temp = centroids\n",
    "    temp = abs(temp - points.iloc[i]['mi_cove'])\n",
    "    val = min(temp)\n",
    "    if val == abs(centroids[0] - points.iloc[i]['mi_cove']):\n",
    "        mi_c1 = mi_c1.append({'mi_cove': points.iloc[i]['mi_cove'], 'State Name': points.iloc[i]['State Name'], 'District Name':points.iloc[i]['District Name']}, ignore_index = True)\n",
    "    elif val == abs(centroids[1] - points.iloc[i]['mi_cove']):\n",
    "        mi_c2 = mi_c2.append({'mi_cove': points.iloc[i]['mi_cove'], 'State Name': points.iloc[i]['State Name'], 'District Name':points.iloc[i]['District Name']}, ignore_index = True)\n",
    "    elif val == abs(centroids[2] - points.iloc[i]['mi_cove']):\n",
    "        mi_c3 = mi_c3.append({'mi_cove': points.iloc[i]['mi_cove'], 'State Name': points.iloc[i]['State Name'], 'District Name':points.iloc[i]['District Name']}, ignore_index = True)\n",
    "v1 = (sum(np.asarray(mi_c1['mi_cove']))) / len(np.asarray(mi_c1['mi_cove']))\n",
    "v2 = (sum(np.asarray(mi_c2['mi_cove']))) / len(np.asarray(mi_c2['mi_cove']))\n",
    "v3 = (sum(np.asarray(mi_c3['mi_cove']))) / len(np.asarray(mi_c3['mi_cove']))\n",
    "new_cen = np.asarray([v1,v2,v3])"
   ]
  },
  {
   "cell_type": "code",
   "execution_count": 15,
   "metadata": {},
   "outputs": [
    {
     "data": {
      "text/plain": [
       "array([0.40818009, 0.74441645, 0.9459526 ])"
      ]
     },
     "execution_count": 15,
     "metadata": {},
     "output_type": "execute_result"
    }
   ],
   "source": [
    "var =0\n",
    "while not (new_cen == centroids).all():\n",
    "    centroids = new_cen\n",
    "    col_names =  ['mi_cove', 'State Name', 'District Name']\n",
    "    mi_c1 = pd.DataFrame(columns = col_names)\n",
    "    mi_c2 = pd.DataFrame(columns = col_names)\n",
    "    mi_c3 = pd.DataFrame(columns = col_names)\n",
    "    for i in range(points['mi_cove'].count()):\n",
    "        temp = centroids\n",
    "        temp = abs(temp - points.iloc[i]['mi_cove'])\n",
    "        val = min(temp)\n",
    "        if val == abs(centroids[0] - points.iloc[i]['mi_cove']):\n",
    "            mi_c1 = mi_c1.append({'mi_cove': points.iloc[i]['mi_cove'], 'State Name': points.iloc[i]['State Name'], 'District Name':points.iloc[i]['District Name']}, ignore_index = True)\n",
    "        elif val == abs(centroids[1] - points.iloc[i]['mi_cove']):\n",
    "            mi_c2 = mi_c2.append({'mi_cove': points.iloc[i]['mi_cove'], 'State Name': points.iloc[i]['State Name'], 'District Name':points.iloc[i]['District Name']}, ignore_index = True)\n",
    "        elif val == abs(centroids[2] - points.iloc[i]['mi_cove']):\n",
    "            mi_c3 = mi_c3.append({'mi_cove': points.iloc[i]['mi_cove'], 'State Name': points.iloc[i]['State Name'], 'District Name':points.iloc[i]['District Name']}, ignore_index = True)\n",
    "    v1 = (sum(np.asarray(mi_c1['mi_cove']))) / len(np.asarray(mi_c1['mi_cove']))\n",
    "    v2 = (sum(np.asarray(mi_c2['mi_cove']))) / len(np.asarray(mi_c2['mi_cove']))\n",
    "    v3 = (sum(np.asarray(mi_c3['mi_cove']))) / len(np.asarray(mi_c3['mi_cove']))\n",
    "    new_cen = np.asarray([v1,v2,v3])\n",
    "    var += 1\n",
    "    \n",
    "new_cen"
   ]
  },
  {
   "cell_type": "code",
   "execution_count": 16,
   "metadata": {},
   "outputs": [],
   "source": [
    "#Applying k-means for genenral population\n",
    "points = ge_df[['ge_cove', 'State Name','District Name']]\n",
    "\n",
    "centroids = np.asarray([0, 0.4, 0.7])\n",
    "new_cen = np.asarray([0, 0, 0])\n",
    "\n",
    "col_names =  ['ge_cove','State Name', 'District Name']\n",
    "ge_c1 = pd.DataFrame(columns = col_names)\n",
    "ge_c2 = pd.DataFrame(columns = col_names)\n",
    "ge_c3 = pd.DataFrame(columns = col_names)\n",
    "for i in range(points['ge_cove'].count()):\n",
    "    temp = centroids\n",
    "    temp = abs(temp - points.iloc[i]['ge_cove'])\n",
    "    val = min(temp)\n",
    "    if val == abs(centroids[0] - points.iloc[i]['ge_cove']):\n",
    "        ge_c1 = ge_c1.append({'ge_cove': points.iloc[i]['ge_cove'], 'State Name': points.iloc[i]['State Name'], 'District Name':points.iloc[i]['District Name']}, ignore_index = True)\n",
    "    elif val == abs(centroids[1] - points.iloc[i]['ge_cove']):\n",
    "        ge_c2 = ge_c2.append({'ge_cove': points.iloc[i]['ge_cove'], 'State Name': points.iloc[i]['State Name'], 'District Name':points.iloc[i]['District Name']}, ignore_index = True)\n",
    "    elif val == abs(centroids[2] - points.iloc[i]['ge_cove']):\n",
    "        ge_c3 = ge_c3.append({'ge_cove': points.iloc[i]['ge_cove'], 'State Name': points.iloc[i]['State Name'], 'District Name':points.iloc[i]['District Name']}, ignore_index = True)\n",
    "v1 = (sum(np.asarray(ge_c1['ge_cove']))) / len(np.asarray(ge_c1['ge_cove']))\n",
    "v2 = (sum(np.asarray(ge_c2['ge_cove']))) / len(np.asarray(ge_c2['ge_cove']))\n",
    "v3 = (sum(np.asarray(ge_c3['ge_cove']))) / len(np.asarray(ge_c3['ge_cove']))\n",
    "new_cen = np.asarray([v1,v2,v3])"
   ]
  },
  {
   "cell_type": "code",
   "execution_count": 17,
   "metadata": {},
   "outputs": [
    {
     "data": {
      "text/plain": [
       "array([0.29885478, 0.72728295, 0.94431376])"
      ]
     },
     "execution_count": 17,
     "metadata": {},
     "output_type": "execute_result"
    }
   ],
   "source": [
    "var =0\n",
    "while not (new_cen == centroids).all():\n",
    "    centroids = new_cen\n",
    "    col_names =  ['ge_cove', 'State Name', 'District Name']\n",
    "    ge_c1 = pd.DataFrame(columns = col_names)\n",
    "    ge_c2 = pd.DataFrame(columns = col_names)\n",
    "    ge_c3 = pd.DataFrame(columns = col_names)\n",
    "    for i in range(points['ge_cove'].count()):\n",
    "        temp = centroids\n",
    "        temp = abs(temp - points.iloc[i]['ge_cove'])\n",
    "        val = min(temp)\n",
    "        if val == abs(centroids[0] - points.iloc[i]['ge_cove']):\n",
    "            ge_c1 = ge_c1.append({'ge_cove': points.iloc[i]['ge_cove'], 'State Name': points.iloc[i]['State Name'], 'District Name':points.iloc[i]['District Name']}, ignore_index = True)\n",
    "        elif val == abs(centroids[1] - points.iloc[i]['ge_cove']):\n",
    "            ge_c2 = ge_c2.append({'ge_cove': points.iloc[i]['ge_cove'], 'State Name': points.iloc[i]['State Name'], 'District Name':points.iloc[i]['District Name']}, ignore_index = True)\n",
    "        elif val == abs(centroids[2] - points.iloc[i]['ge_cove']):\n",
    "            ge_c3 = ge_c3.append({'ge_cove': points.iloc[i]['ge_cove'], 'State Name': points.iloc[i]['State Name'], 'District Name':points.iloc[i]['District Name']}, ignore_index = True)\n",
    "    v1 = (sum(np.asarray(ge_c1['ge_cove']))) / len(np.asarray(ge_c1['ge_cove']))\n",
    "    v2 = (sum(np.asarray(ge_c2['ge_cove']))) / len(np.asarray(ge_c2['ge_cove']))\n",
    "    v3 = (sum(np.asarray(ge_c3['ge_cove']))) / len(np.asarray(ge_c3['ge_cove']))\n",
    "    new_cen = np.asarray([v1,v2,v3])\n",
    "    var += 1\n",
    "    \n",
    "new_cen"
   ]
  },
  {
   "cell_type": "code",
   "execution_count": 18,
   "metadata": {},
   "outputs": [],
   "source": [
    "#Applying k-means for total population\n",
    "points = to_df[['to_cove', 'State Name','District Name']]\n",
    "\n",
    "centroids = np.asarray([0, 0.4, 0.7])\n",
    "new_cen = np.asarray([0, 0, 0])\n",
    "\n",
    "col_names =  ['to_cove','State Name', 'District Name']\n",
    "to_c1 = pd.DataFrame(columns = col_names)\n",
    "to_c2 = pd.DataFrame(columns = col_names)\n",
    "to_c3 = pd.DataFrame(columns = col_names)\n",
    "for i in range(points['to_cove'].count()):\n",
    "    temp = centroids\n",
    "    temp = abs(temp - points.iloc[i]['to_cove'])\n",
    "    val = min(temp)\n",
    "    if val == abs(centroids[0] - points.iloc[i]['to_cove']):\n",
    "        to_c1 = to_c1.append({'to_cove': points.iloc[i]['to_cove'], 'State Name': points.iloc[i]['State Name'], 'District Name':points.iloc[i]['District Name']}, ignore_index = True)\n",
    "    elif val == abs(centroids[1] - points.iloc[i]['to_cove']):\n",
    "        to_c2 = to_c2.append({'to_cove': points.iloc[i]['to_cove'], 'State Name': points.iloc[i]['State Name'], 'District Name':points.iloc[i]['District Name']}, ignore_index = True)\n",
    "    elif val == abs(centroids[2] - points.iloc[i]['to_cove']):\n",
    "        to_c3 = to_c3.append({'to_cove': points.iloc[i]['to_cove'], 'State Name': points.iloc[i]['State Name'], 'District Name':points.iloc[i]['District Name']}, ignore_index = True)\n",
    "v1 = (sum(np.asarray(to_c1['to_cove']))) / len(np.asarray(to_c1['to_cove']))\n",
    "v2 = (sum(np.asarray(to_c2['to_cove']))) / len(np.asarray(to_c2['to_cove']))\n",
    "v3 = (sum(np.asarray(to_c3['to_cove']))) / len(np.asarray(to_c3['to_cove']))\n",
    "new_cen = np.asarray([v1,v2,v3])"
   ]
  },
  {
   "cell_type": "code",
   "execution_count": 19,
   "metadata": {},
   "outputs": [
    {
     "data": {
      "text/plain": [
       "array([0.10957125, 0.71043734, 0.93846793])"
      ]
     },
     "execution_count": 19,
     "metadata": {},
     "output_type": "execute_result"
    }
   ],
   "source": [
    "var =0\n",
    "while not (new_cen == centroids).all():\n",
    "    centroids = new_cen\n",
    "    col_names =  ['to_cove', 'State Name', 'District Name']\n",
    "    to_c1 = pd.DataFrame(columns = col_names)\n",
    "    to_c2 = pd.DataFrame(columns = col_names)\n",
    "    to_c3 = pd.DataFrame(columns = col_names)\n",
    "    for i in range(points['to_cove'].count()):\n",
    "        temp = centroids\n",
    "        temp = abs(temp - points.iloc[i]['to_cove'])\n",
    "        val = min(temp)\n",
    "        if val == abs(centroids[0] - points.iloc[i]['to_cove']):\n",
    "            to_c1 = to_c1.append({'to_cove': points.iloc[i]['to_cove'], 'State Name': points.iloc[i]['State Name'], 'District Name':points.iloc[i]['District Name']}, ignore_index = True)\n",
    "        elif val == abs(centroids[1] - points.iloc[i]['to_cove']):\n",
    "            to_c2 = to_c2.append({'to_cove': points.iloc[i]['to_cove'], 'State Name': points.iloc[i]['State Name'], 'District Name':points.iloc[i]['District Name']}, ignore_index = True)\n",
    "        elif val == abs(centroids[2] - points.iloc[i]['to_cove']):\n",
    "            to_c3 = to_c3.append({'to_cove': points.iloc[i]['to_cove'], 'State Name': points.iloc[i]['State Name'], 'District Name':points.iloc[i]['District Name']}, ignore_index = True)\n",
    "    v1 = (sum(np.asarray(to_c1['to_cove']))) / len(np.asarray(to_c1['to_cove']))\n",
    "    v2 = (sum(np.asarray(to_c2['to_cove']))) / len(np.asarray(to_c2['to_cove']))\n",
    "    v3 = (sum(np.asarray(to_c3['to_cove']))) / len(np.asarray(to_c3['to_cove']))\n",
    "    new_cen = np.asarray([v1,v2,v3])\n",
    "    var += 1\n",
    "    \n",
    "new_cen"
   ]
  },
  {
   "cell_type": "markdown",
   "metadata": {},
   "source": [
    "# Answering the Questions"
   ]
  },
  {
   "cell_type": "code",
   "execution_count": 20,
   "metadata": {},
   "outputs": [],
   "source": [
    "min_con = df3[(df3['GENERAL Current Population']<df3['Minority Current Population'])]\n",
    "gen_con = df3[(df3['GENERAL Current Population']>df3['Minority Current Population'])]"
   ]
  },
  {
   "cell_type": "markdown",
   "metadata": {},
   "source": [
    "# minority concentrated --> area less covered"
   ]
  },
  {
   "cell_type": "code",
   "execution_count": 21,
   "metadata": {},
   "outputs": [
    {
     "data": {
      "text/plain": [
       "0.4566929133858268"
      ]
     },
     "execution_count": 21,
     "metadata": {},
     "output_type": "execute_result"
    }
   ],
   "source": [
    "#RELATION BETWEEN AREAS BEING MINORITY CONCENTRATED AND THE AREAS NOT COVERED PROPERLY i.e. lower two clusters\n",
    "ans1 = pd.merge(min_con,to_c1,how ='inner',left_on=['State Name','District Name'],right_on=['State Name','District Name'])\n",
    "ans2 = pd.merge(min_con,to_c2,how ='inner',left_on=['State Name','District Name'],right_on=['State Name','District Name'])\n",
    "ans = (ans1['District Name'].count() + ans2['District Name'].count())/min_con['District Name'].count()\n",
    "ans\n",
    "#ans is the support of rule (minority concentrated --> area less covered)"
   ]
  },
  {
   "cell_type": "markdown",
   "metadata": {},
   "source": [
    "# general concentrated --> minority less covered"
   ]
  },
  {
   "cell_type": "code",
   "execution_count": 22,
   "metadata": {},
   "outputs": [
    {
     "data": {
      "text/plain": [
       "0.28627450980392155"
      ]
     },
     "execution_count": 22,
     "metadata": {},
     "output_type": "execute_result"
    }
   ],
   "source": [
    "#RELATION BETWEEN GENERAL POPULATION CONCENTRATED AREAS AND MINORITIES NOT HAVING ACCESS TO CLEAN DRINKING WATER\n",
    "ans1 = pd.merge(gen_con,mi_c1,how ='inner',left_on=['State Name','District Name'],right_on=['State Name','District Name'])\n",
    "ans2 = pd.merge(gen_con,mi_c2,how ='inner',left_on=['State Name','District Name'],right_on=['State Name','District Name'])\n",
    "ans = (ans1['District Name'].count() + ans2['District Name'].count())/gen_con['District Name'].count()\n",
    "ans\n",
    "#ans is the support of rule (general concentrated --> minority less covered)"
   ]
  },
  {
   "cell_type": "markdown",
   "metadata": {},
   "source": [
    "# general concentrated --> area being covered"
   ]
  },
  {
   "cell_type": "code",
   "execution_count": 23,
   "metadata": {},
   "outputs": [
    {
     "data": {
      "text/plain": [
       "0.7490196078431373"
      ]
     },
     "execution_count": 23,
     "metadata": {},
     "output_type": "execute_result"
    }
   ],
   "source": [
    "#RELATION BETWEEN GENERAL POPULATION CONCENTRATED AREAS AND AREA BEING IN THE TOP COVERED CLUSTER\n",
    "ans1 = pd.merge(gen_con,to_c3,how ='inner',left_on=['State Name','District Name'],right_on=['State Name','District Name'])\n",
    "ans = ans1['District Name'].count()/gen_con['District Name'].count()\n",
    "ans\n",
    "#ans is the support of rule (general concentrated --> area being covered)"
   ]
  },
  {
   "cell_type": "markdown",
   "metadata": {},
   "source": [
    "# minority concentrated --> general less covered"
   ]
  },
  {
   "cell_type": "code",
   "execution_count": 24,
   "metadata": {},
   "outputs": [
    {
     "data": {
      "text/plain": [
       "0.3937007874015748"
      ]
     },
     "execution_count": 24,
     "metadata": {},
     "output_type": "execute_result"
    }
   ],
   "source": [
    "#RELATION BETWEEN MINORITY POPULATION CONCENTRATED AREAS AND GENERAL NOT HAVING CLEAN ACCES TO DRINKING WATER\n",
    "ans1 = pd.merge(min_con,ge_c1,how ='inner',left_on=['State Name','District Name'],right_on=['State Name','District Name'])\n",
    "ans2 = pd.merge(min_con,ge_c2,how ='inner',left_on=['State Name','District Name'],right_on=['State Name','District Name'])\n",
    "ans = (ans1['District Name'].count() + ans2['District Name'].count())/min_con['District Name'].count()\n",
    "ans\n",
    "#ans is the support of rule (minority concentrated --> general less covered)"
   ]
  },
  {
   "cell_type": "markdown",
   "metadata": {},
   "source": [
    "# minority less covered --> total less covered"
   ]
  },
  {
   "cell_type": "code",
   "execution_count": 25,
   "metadata": {},
   "outputs": [
    {
     "data": {
      "text/plain": [
       "0.20833333333333334"
      ]
     },
     "execution_count": 25,
     "metadata": {},
     "output_type": "execute_result"
    }
   ],
   "source": [
    "ans1 = pd.merge(mi_c1,to_c1,how ='inner',left_on=['State Name','District Name'],right_on=['State Name','District Name'])\n",
    "ans = (ans1['District Name'].count())/mi_c1['District Name'].count()\n",
    "ans\n",
    "#ans is the support of rule (minority less covered --> total less covered)"
   ]
  },
  {
   "cell_type": "markdown",
   "metadata": {},
   "source": [
    "# general less covered --> total less covered"
   ]
  },
  {
   "cell_type": "code",
   "execution_count": 26,
   "metadata": {},
   "outputs": [
    {
     "data": {
      "text/plain": [
       "0.26666666666666666"
      ]
     },
     "execution_count": 26,
     "metadata": {},
     "output_type": "execute_result"
    }
   ],
   "source": [
    "ans1 = pd.merge(ge_c1,to_c1,how ='inner',left_on=['State Name','District Name'],right_on=['State Name','District Name'])\n",
    "ans = (ans1['District Name'].count())/ge_c1['District Name'].count()\n",
    "ans\n",
    "#ans is the support of rule (general less covered --> total less covered)"
   ]
  },
  {
   "cell_type": "markdown",
   "metadata": {},
   "source": [
    "# minority covered --> general covered"
   ]
  },
  {
   "cell_type": "code",
   "execution_count": 29,
   "metadata": {},
   "outputs": [
    {
     "data": {
      "text/plain": [
       "0.9410377358490566"
      ]
     },
     "execution_count": 29,
     "metadata": {},
     "output_type": "execute_result"
    }
   ],
   "source": [
    "ans1 = pd.merge(mi_c3,ge_c3,how ='inner',left_on=['State Name','District Name'],right_on=['State Name','District Name'])\n",
    "ans = (ans1['District Name'].count())/mi_c3['District Name'].count()\n",
    "ans\n",
    "#ans is the support of rule (minority covered --> general covered)"
   ]
  },
  {
   "cell_type": "markdown",
   "metadata": {},
   "source": [
    "# general covered --> minority covered"
   ]
  },
  {
   "cell_type": "code",
   "execution_count": 30,
   "metadata": {},
   "outputs": [
    {
     "data": {
      "text/plain": [
       "0.9236111111111112"
      ]
     },
     "execution_count": 30,
     "metadata": {},
     "output_type": "execute_result"
    }
   ],
   "source": [
    "ans1 = pd.merge(ge_c3,mi_c3,how ='inner',left_on=['State Name','District Name'],right_on=['State Name','District Name'])\n",
    "ans = (ans1['District Name'].count())/ge_c3['District Name'].count()\n",
    "ans\n",
    "#ans is the support of rule (general covered --> minority covered)"
   ]
  },
  {
   "cell_type": "markdown",
   "metadata": {},
   "source": [
    "# minority less covered --> general covered"
   ]
  },
  {
   "cell_type": "code",
   "execution_count": 32,
   "metadata": {},
   "outputs": [
    {
     "data": {
      "text/plain": [
       "0.15492957746478872"
      ]
     },
     "execution_count": 32,
     "metadata": {},
     "output_type": "execute_result"
    }
   ],
   "source": [
    "#RELATION BETWEEN GENERAL POPULATION CONCENTRATED AREAS AND MINORITIES NOT HAVING ACCESS TO CLEAN DRINKING WATER\n",
    "ans1 = pd.merge(mi_c1,ge_c3,how ='inner',left_on=['State Name','District Name'],right_on=['State Name','District Name'])\n",
    "ans2 = pd.merge(mi_c2,ge_c3,how ='inner',left_on=['State Name','District Name'],right_on=['State Name','District Name'])\n",
    "ans = (ans1['District Name'].count() + ans2['District Name'].count())/(mi_c1['District Name'].count()+mi_c2['District Name'].count())\n",
    "ans\n",
    "#ans is the support of rule (general concentrated --> minority less covered)"
   ]
  },
  {
   "cell_type": "code",
   "execution_count": null,
   "metadata": {},
   "outputs": [],
   "source": []
  }
 ],
 "metadata": {
  "kernelspec": {
   "display_name": "Python 3",
   "language": "python",
   "name": "python3"
  },
  "language_info": {
   "codemirror_mode": {
    "name": "ipython",
    "version": 3
   },
   "file_extension": ".py",
   "mimetype": "text/x-python",
   "name": "python",
   "nbconvert_exporter": "python",
   "pygments_lexer": "ipython3",
   "version": "3.7.4"
  }
 },
 "nbformat": 4,
 "nbformat_minor": 2
}
